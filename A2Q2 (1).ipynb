{
 "cells": [
  {
   "cell_type": "code",
   "execution_count": 7,
   "id": "fff406f3-8912-40a2-81fe-d7c8f8cd63bb",
   "metadata": {},
   "outputs": [],
   "source": [
    "import numpy as np\n",
    "import pandas as pd\n",
    "\n",
    "# Define the sigmoid function\n",
    "def sigmoid(z):\n",
    "    return 1 / (1 + np.exp(-z))\n",
    "\n",
    "# Feature mapping function: maps (x1, x2) to [1, x1, x2, x1*x2]\n",
    "def feature_map(X):\n",
    "    n_samples = X.shape[0]\n",
    "    ones = np.ones((n_samples, 1))\n",
    "    x1 = X[:, [0]]\n",
    "    x2 = X[:, [1]]\n",
    "    x1x2 = x1 * x2\n",
    "    return np.hstack([ones, x1, x2, x1x2])\n"
   ]
  },
  {
   "cell_type": "code",
   "execution_count": 8,
   "id": "fde4fa8d-dbd3-49d9-aa3c-b7bee4fb1e8c",
   "metadata": {},
   "outputs": [],
   "source": [
    "# Define the XOR dataset: 4 samples with two features each\n",
    "X = np.array([\n",
    "    [0, 0],\n",
    "    [0, 1],\n",
    "    [1, 0],\n",
    "    [1, 1]\n",
    "])\n",
    "\n",
    "# Corresponding labels for XOR (0 or 1)\n",
    "T = np.array([0, 1, 1, 0])\n",
    "\n",
    "# Apply the feature mapping to X\n",
    "Phi = feature_map(X)  # Phi has shape (4, 4)\n"
   ]
  },
  {
   "cell_type": "code",
   "execution_count": 9,
   "id": "9850d23f-80d0-4d0f-853b-9f2abe53a6fd",
   "metadata": {},
   "outputs": [],
   "source": [
    "# Initialize the weights as given in the assignment\n",
    "w = np.array([-0.6, 2, 1.2, -2.8])\n",
    "\n",
    "# Set the learning rate\n",
    "eta = 0.1\n",
    "\n",
    "# Total number of epochs (iterations)\n",
    "num_epochs = 100\n",
    "\n",
    "# Prepare a list to record details for the last 10 epochs\n",
    "history = []\n"
   ]
  },
  {
   "cell_type": "code",
   "execution_count": 10,
   "id": "5937221c-243c-412b-984b-0223aa2a461e",
   "metadata": {},
   "outputs": [],
   "source": [
    "# Training loop for Logistic Regression\n",
    "for epoch in range(num_epochs):\n",
    "    # Forward pass: compute z = Phi dot w for all samples\n",
    "    z = Phi.dot(w)  # shape (4,)\n",
    "    # Compute predictions using the sigmoid function\n",
    "    y = sigmoid(z)\n",
    "    \n",
    "    # Compute cross-entropy loss (averaged over samples)\n",
    "    loss = -np.mean(T * np.log(y + 1e-10) + (1 - T) * np.log(1 - y + 1e-10))\n",
    "    \n",
    "    # Compute gradient for each parameter w_j:\n",
    "    # grad_j = (1/N) * sum_i (y_i - t_i) * phi_j(x^(i))\n",
    "    grad = np.mean((y - T)[:, np.newaxis] * Phi, axis=0)\n",
    "    \n",
    "    # Update the weights using gradient descent\n",
    "    w = w - eta * grad\n",
    "    \n",
    "    # Record detailed information for the last 10 epochs\n",
    "    if epoch >= num_epochs - 10:\n",
    "        history.append({\n",
    "            \"Epoch\": epoch + 1,\n",
    "            \"z_1\": z[0],\n",
    "            \"z_2\": z[1],\n",
    "            \"z_3\": z[2],\n",
    "            \"z_4\": z[3],\n",
    "            \"y_1\": y[0],\n",
    "            \"y_2\": y[1],\n",
    "            \"y_3\": y[2],\n",
    "            \"y_4\": y[3],\n",
    "            \"Loss\": loss,\n",
    "            \"w\": w.copy()\n",
    "        })\n"
   ]
  },
  {
   "cell_type": "code",
   "execution_count": 15,
   "id": "fd9bbf5b-6b5c-44b4-aa26-6312048553d1",
   "metadata": {},
   "outputs": [
    {
     "name": "stdout",
     "output_type": "stream",
     "text": [
      "   Epoch       z_1       z_2       z_3       z_4       y_1       y_2       y_3       y_4      Loss                                                                                   w\n",
      "0     91 -0.702592  0.615201  1.115355 -1.079337  0.331238  0.649126  0.753126  0.253631  0.352628  [-0.7022696198398162, 1.8177775113526038, 1.3202238484076372, -3.5188254894718054]\n",
      "1     92 -0.702270  0.617954  1.115508 -1.083094  0.331309  0.649753  0.753155  0.252921  0.352166    [-0.7019480665653083, 1.8176256232035046, 1.322656995237396, -3.525148514468718]\n",
      "2     93 -0.701948  0.620709  1.115678 -1.086814  0.331380  0.650380  0.753186  0.252219  0.351707   [-0.7016271914767117, 1.817490503895978, 1.3250920334671696, -3.5314539820850253]\n",
      "3     94 -0.701627  0.623465  1.115863 -1.090499  0.331452  0.651006  0.753221  0.251524  0.351249    [-0.7013072592364682, 1.8173718791207774, 1.327528769576227, -3.537742091924406]\n",
      "4     95 -0.701307  0.626222  1.116065 -1.094149  0.331522  0.651632  0.753258  0.250838  0.350794   [-0.7009885225866851, 1.8172694823606603, 1.3299670179711187, -3.544013038323976]\n",
      "5     96 -0.700989  0.628978  1.116281 -1.097765  0.331593  0.652258  0.753298  0.250159  0.350340  [-0.7006712228191823, 1.8171830546070726, 1.3324066006719075, -3.5502670105467513]\n",
      "6     97 -0.700671  0.631735  1.116512 -1.101349  0.331663  0.652883  0.753341  0.249487  0.349889   [-0.7003555902269196, 1.8171123440880486, 1.334847347011096, -3.5565041929662504]\n",
      "7     98 -0.700356  0.634492  1.116757 -1.104900  0.331733  0.653507  0.753387  0.248823  0.349440  [-0.7000418445375649, 1.8170571060068634, 1.3372890933447175, -3.5627247652435807]\n",
      "8     99 -0.700042  0.637247  1.117015 -1.108420  0.331803  0.654131  0.753435  0.248165  0.348993    [-0.699730195329931, 1.817017102290992, 1.3397316827750787, -3.5689289024973365]\n",
      "9    100 -0.699730  0.640001  1.117287 -1.111910  0.331872  0.654754  0.753485  0.247515  0.348548  [-0.6994208424339801, 1.8169921013509414, 1.3421749648846666, -3.5751167754666175]\n",
      "   Epoch       z_1       z_2       z_3       z_4       y_1       y_2  \\\n",
      "0     91 -0.702592  0.615201  1.115355 -1.079337  0.331238  0.649126   \n",
      "1     92 -0.702270  0.617954  1.115508 -1.083094  0.331309  0.649753   \n",
      "2     93 -0.701948  0.620709  1.115678 -1.086814  0.331380  0.650380   \n",
      "3     94 -0.701627  0.623465  1.115863 -1.090499  0.331452  0.651006   \n",
      "4     95 -0.701307  0.626222  1.116065 -1.094149  0.331522  0.651632   \n",
      "5     96 -0.700989  0.628978  1.116281 -1.097765  0.331593  0.652258   \n",
      "6     97 -0.700671  0.631735  1.116512 -1.101349  0.331663  0.652883   \n",
      "7     98 -0.700356  0.634492  1.116757 -1.104900  0.331733  0.653507   \n",
      "8     99 -0.700042  0.637247  1.117015 -1.108420  0.331803  0.654131   \n",
      "9    100 -0.699730  0.640001  1.117287 -1.111910  0.331872  0.654754   \n",
      "\n",
      "        y_3       y_4      Loss  \\\n",
      "0  0.753126  0.253631  0.352628   \n",
      "1  0.753155  0.252921  0.352166   \n",
      "2  0.753186  0.252219  0.351707   \n",
      "3  0.753221  0.251524  0.351249   \n",
      "4  0.753258  0.250838  0.350794   \n",
      "5  0.753298  0.250159  0.350340   \n",
      "6  0.753341  0.249487  0.349889   \n",
      "7  0.753387  0.248823  0.349440   \n",
      "8  0.753435  0.248165  0.348993   \n",
      "9  0.753485  0.247515  0.348548   \n",
      "\n",
      "                                                   w  \n",
      "0  [-0.7022696198398162, 1.8177775113526038, 1.32...  \n",
      "1  [-0.7019480665653083, 1.8176256232035046, 1.32...  \n",
      "2  [-0.7016271914767117, 1.817490503895978, 1.325...  \n",
      "3  [-0.7013072592364682, 1.8173718791207774, 1.32...  \n",
      "4  [-0.7009885225866851, 1.8172694823606603, 1.32...  \n",
      "5  [-0.7006712228191823, 1.8171830546070726, 1.33...  \n",
      "6  [-0.7003555902269196, 1.8171123440880486, 1.33...  \n",
      "7  [-0.7000418445375649, 1.8170571060068634, 1.33...  \n",
      "8  [-0.699730195329931, 1.817017102290992, 1.3397...  \n",
      "9  [-0.6994208424339801, 1.8169921013509414, 1.34...  \n"
     ]
    }
   ],
   "source": [
    "# Convert the recorded history into a DataFrame for better visualization\n",
    "df = pd.DataFrame(history)\n",
    "\n",
    "print(df.to_string())\n",
    "\n",
    "print(df)\n"
   ]
  },
  {
   "cell_type": "code",
   "execution_count": 13,
   "id": "a25f2739-4dcc-4541-baf5-af98578e33ed",
   "metadata": {},
   "outputs": [],
   "source": [
    "## Conclusion\n",
    "\n",
    "#The table above shows the details of the last 10 iterations (epochs), including:\n",
    "# - **z_1, z_2, z_3, z_4:** The computed linear combination \\(z\\) for each of the 4 samples.\n",
    "# - **y_1, y_2, y_3, y_4:** The corresponding predicted probabilities after applying the sigmoid function.\n",
    "# - **Loss:** The average cross-entropy loss for that epoch.\n",
    "# - **w:** The current weight vector after the update.\n",
    "\n",
    "# If the model converges correctly, the predictions \\(y\\) for samples with label 1 should approach 1, and for label 0 should approach 0.\n"
   ]
  },
  {
   "cell_type": "code",
   "execution_count": null,
   "id": "1e40f26a-9000-4b96-92a2-1f78f08551d1",
   "metadata": {},
   "outputs": [],
   "source": []
  }
 ],
 "metadata": {
  "kernelspec": {
   "display_name": "Python 3 (ipykernel)",
   "language": "python",
   "name": "python3"
  },
  "language_info": {
   "codemirror_mode": {
    "name": "ipython",
    "version": 3
   },
   "file_extension": ".py",
   "mimetype": "text/x-python",
   "name": "python",
   "nbconvert_exporter": "python",
   "pygments_lexer": "ipython3",
   "version": "3.13.1"
  }
 },
 "nbformat": 4,
 "nbformat_minor": 5
}
