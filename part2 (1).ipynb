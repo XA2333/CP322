{
 "cells": [
  {
   "cell_type": "code",
   "execution_count": 2,
   "id": "09d83290-e56d-46ab-a5b4-8ebe1a415ba8",
   "metadata": {},
   "outputs": [
    {
     "name": "stdout",
     "output_type": "stream",
     "text": [
      "Data loading and feature extraction completed!\n"
     ]
    }
   ],
   "source": [
    "import pandas as pd\n",
    "import numpy as np\n",
    "from sklearn.feature_extraction.text import CountVectorizer\n",
    "from sklearn.model_selection import train_test_split\n",
    "\n",
    "def load_data(real_file, fake_file, test_size=0.3, random_state=42):\n",
    "    \"\"\"\n",
    "    Load data from real and fake text files and extract features using CountVectorizer.\n",
    "    \n",
    "    Parameters:\n",
    "        real_file (str): Path to the file containing real news headlines.\n",
    "        fake_file (str): Path to the file containing fake news headlines.\n",
    "        test_size (float): Proportion of data for testing.\n",
    "        random_state (int): Random seed for reproducibility.\n",
    "        \n",
    "    Returns:\n",
    "        X_train, X_test, y_train, y_test, vectorizer\n",
    "    \"\"\"\n",
    "    # Read headlines from files (each line is a headline)\n",
    "    with open(real_file, \"r\", encoding=\"utf-8\") as f:\n",
    "        real_headlines = f.read().splitlines()\n",
    "    with open(fake_file, \"r\", encoding=\"utf-8\") as f:\n",
    "        fake_headlines = f.read().splitlines()\n",
    "        \n",
    "    # Combine headlines and create labels\n",
    "    texts = real_headlines + fake_headlines\n",
    "    labels = ['real'] * len(real_headlines) + ['fake'] * len(fake_headlines)\n",
    "    \n",
    "    # Use CountVectorizer to extract text features\n",
    "    # max_df=0.7: remove words appearing in >70% of the headlines\n",
    "    # min_df=0.005: remove words appearing in <0.5% of the headlines\n",
    "    vectorizer = CountVectorizer(max_df=0.7, min_df=0.005)\n",
    "    X = vectorizer.fit_transform(texts)\n",
    "    \n",
    "    # Split data into training (70%) and test (30%) sets\n",
    "    X_train, X_test, y_train, y_test = train_test_split(X, labels, test_size=test_size, random_state=random_state)\n",
    "    return X_train, X_test, y_train, y_test, vectorizer\n",
    "\n",
    "# Update the file paths as needed\n",
    "real_file = \"real.txt\"\n",
    "fake_file = \"fake.txt\"\n",
    "\n",
    "# Load the data and extract features\n",
    "X_train, X_test, y_train, y_test, vectorizer = load_data(real_file, fake_file)\n",
    "print(\"Data loading and feature extraction completed!\")\n"
   ]
  },
  {
   "cell_type": "code",
   "execution_count": 3,
   "id": "7c4439bf-d416-4ab6-97c7-12c2b78f47bb",
   "metadata": {},
   "outputs": [
    {
     "name": "stdout",
     "output_type": "stream",
     "text": [
      "Test Accuracy: 0.7898\n",
      "Confusion Matrix:\n",
      "[[287  95]\n",
      " [111 487]]\n"
     ]
    }
   ],
   "source": [
    "from sklearn.metrics import accuracy_score, confusion_matrix\n",
    "\n",
    "def naive_bayes(X_train, y_train, X_test, y_test, alpha=1.0):\n",
    "    \"\"\"\n",
    "    Implements a Multinomial Naïve Bayes classifier and returns the test accuracy, confusion matrix,\n",
    "    and predictions.\n",
    "    \n",
    "    Parameters:\n",
    "        X_train, X_test: Feature matrices (sparse) for training and testing.\n",
    "        y_train, y_test: Labels for training and testing.\n",
    "        alpha (float): Laplace smoothing parameter.\n",
    "        \n",
    "    Returns:\n",
    "        accuracy (float): Classification accuracy on the test set.\n",
    "        cm (ndarray): Confusion matrix.\n",
    "        predictions (list): List of predicted labels for the test set.\n",
    "    \"\"\"\n",
    "    # Convert sparse matrices to dense arrays\n",
    "    X_train = X_train.toarray()\n",
    "    X_test = X_test.toarray()\n",
    "    \n",
    "    classes = np.unique(y_train)\n",
    "    n_features = X_train.shape[1]\n",
    "    \n",
    "    # Compute prior probabilities P(c)\n",
    "    priors = {}\n",
    "    for c in classes:\n",
    "        priors[c] = np.mean(np.array(y_train) == c)\n",
    "    \n",
    "    # Calculate word counts and total counts for each class\n",
    "    word_counts = {}\n",
    "    total_counts = {}\n",
    "    for c in classes:\n",
    "        indices = [i for i, label in enumerate(y_train) if label == c]\n",
    "        counts = X_train[indices].sum(axis=0)\n",
    "        word_counts[c] = counts\n",
    "        total_counts[c] = counts.sum()\n",
    "    \n",
    "    # Compute likelihoods P(word|c) with Laplace smoothing\n",
    "    likelihoods = {}\n",
    "    for c in classes:\n",
    "        likelihoods[c] = (word_counts[c] + alpha) / (total_counts[c] + alpha * n_features)\n",
    "    \n",
    "    # Predict labels for each test sample using log probabilities\n",
    "    predictions = []\n",
    "    for i in range(X_test.shape[0]):\n",
    "        log_probs = {}\n",
    "        for c in classes:\n",
    "            log_prob = np.log(priors[c])\n",
    "            log_prob += np.dot(X_test[i], np.log(likelihoods[c].flatten()))\n",
    "            log_probs[c] = log_prob\n",
    "        predicted_class = max(log_probs, key=log_probs.get)\n",
    "        predictions.append(predicted_class)\n",
    "    \n",
    "    acc = accuracy_score(y_test, predictions)\n",
    "    cm = confusion_matrix(y_test, predictions, labels=classes)\n",
    "    return acc, cm, predictions\n",
    "\n",
    "# Test the Naïve Bayes classifier\n",
    "accuracy, cm, predictions = naive_bayes(X_train, y_train, X_test, y_test, alpha=1.0)\n",
    "print(f\"Test Accuracy: {accuracy:.4f}\")\n",
    "print(\"Confusion Matrix:\")\n",
    "print(cm)\n"
   ]
  },
  {
   "cell_type": "code",
   "execution_count": 4,
   "id": "baf71e1c-4424-4fd3-ac62-cca405df854a",
   "metadata": {},
   "outputs": [
    {
     "data": {
      "image/png": "[encoded data removed]",
      "text/plain": [
       "<Figure size 600x600 with 2 Axes>"
      ]
     },
     "metadata": {},
     "output_type": "display_data"
    }
   ],
   "source": [
    "import matplotlib.pyplot as plt\n",
    "\n",
    "plt.figure(figsize=(6,6))\n",
    "plt.imshow(cm, interpolation='nearest', cmap=plt.cm.Blues)\n",
    "plt.title('Test Set Confusion Matrix')\n",
    "plt.colorbar()\n",
    "tick_marks = np.arange(len(np.unique(y_train)))\n",
    "plt.xticks(tick_marks, np.unique(y_train))\n",
    "plt.yticks(tick_marks, np.unique(y_train))\n",
    "plt.xlabel('Predicted Label')\n",
    "plt.ylabel('True Label')\n",
    "plt.show()\n"
   ]
  },
  {
   "cell_type": "code",
   "execution_count": null,
   "id": "f5d8a75c-f3cc-4b25-900b-406115c3d46e",
   "metadata": {},
   "outputs": [],
   "source": [
    "# Discussion\n",
    "\n",
    "#In this experiment, we implemented a Multinomial Naïve Bayes classifier to classify real and fake news headlines.  \n",
    "#The test accuracy achieved is **{accuracy:.4f}**. From the confusion matrix, we can observe that the classifier\n",
    "#performs well on both classes; however, some misclassifications still occur, possibly due to overlapping vocabulary\n",
    "\n",
    "#Future work may involve more advanced text preprocessing and feature extraction techniques to further improve performance.\n"
   ]
  }
 ],
 "metadata": {
  "kernelspec": {
   "display_name": "Python 3 (ipykernel)",
   "language": "python",
   "name": "python3"
  },
  "language_info": {
   "codemirror_mode": {
    "name": "ipython",
    "version": 3
   },
   "file_extension": ".py",
   "mimetype": "text/x-python",
   "name": "python",
   "nbconvert_exporter": "python",
   "pygments_lexer": "ipython3",
   "version": "3.13.1"
  }
 },
 "nbformat": 4,
 "nbformat_minor": 5
}
